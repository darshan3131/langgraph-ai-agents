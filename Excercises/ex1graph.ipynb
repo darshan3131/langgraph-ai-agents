{
 "cells": [
  {
   "cell_type": "markdown",
   "id": "d3f01320",
   "metadata": {},
   "source": [
    "#Your task:\n",
    "Create a Personalized Compliment Agent using LangGraph!\n",
    "Input: {\"name\": \"Bob\"}\n",
    "Output: \"Bob, you're doing an amazing job learning LangGraph\n",
    "Hint: You have to concatenate the state, not replace it!"
   ]
  },
  {
   "cell_type": "code",
   "execution_count": null,
   "id": "a88a1abd",
   "metadata": {},
   "outputs": [],
   "source": [
    "%pip install langgraph\n",
    "\n",
    "from typing import Dict, TypedDict\n",
    "from langgraph.graph import StateGraph"
   ]
  },
  {
   "cell_type": "code",
   "execution_count": 15,
   "id": "87aaa19a",
   "metadata": {},
   "outputs": [],
   "source": [
    "class AgentState(TypedDict): \n",
    "    name : str\n",
    "\n",
    "def compliment_node(state: AgentState) -> AgentState:\n",
    "    \"\"\"Simple node that compliments a user\"\"\"\n",
    "\n",
    "    state['name'] = state[\"name\"] + \"you're doing a good job learning langgraph!\"\n",
    "\n",
    "    return state"
   ]
  },
  {
   "cell_type": "code",
   "execution_count": 19,
   "id": "c624842e",
   "metadata": {},
   "outputs": [],
   "source": [
    "graph = StateGraph(AgentState)\n",
    "\n",
    "graph.add_node(\"compliment_node\",compliment_node)\n",
    "\n",
    "graph.set_entry_point(\"compliment_node\")\n",
    "graph.set_finish_point(\"compliment_node\")\n",
    "\n",
    "app = graph.compile()"
   ]
  },
  {
   "cell_type": "code",
   "execution_count": 20,
   "id": "1a3035a4",
   "metadata": {},
   "outputs": [
    {
     "data": {
      "image/png": "[encoded data removed]",
      "text/plain": [
       "<IPython.core.display.Image object>"
      ]
     },
     "metadata": {},
     "output_type": "display_data"
    }
   ],
   "source": [
    "from IPython.display import Image, display\n",
    "display(Image(app.get_graph().draw_mermaid_png()))"
   ]
  },
  {
   "cell_type": "code",
   "execution_count": 24,
   "id": "9aa72f56",
   "metadata": {},
   "outputs": [],
   "source": [
    "result = app.invoke({\"name\": \"Darshan\"})"
   ]
  },
  {
   "cell_type": "code",
   "execution_count": 26,
   "id": "2e9d8984",
   "metadata": {},
   "outputs": [
    {
     "data": {
      "text/plain": [
       "\"Darshanyou're doing a good job learning langgraph!\""
      ]
     },
     "execution_count": 26,
     "metadata": {},
     "output_type": "execute_result"
    }
   ],
   "source": [
    "result[\"name\"]"
   ]
  }
 ],
 "metadata": {
  "kernelspec": {
   "display_name": "Python 3",
   "language": "python",
   "name": "python3"
  },
  "language_info": {
   "codemirror_mode": {
    "name": "ipython",
    "version": 3
   },
   "file_extension": ".py",
   "mimetype": "text/x-python",
   "name": "python",
   "nbconvert_exporter": "python",
   "pygments_lexer": "ipython3",
   "version": "3.13.3"
  }
 },
 "nbformat": 4,
 "nbformat_minor": 5
}
